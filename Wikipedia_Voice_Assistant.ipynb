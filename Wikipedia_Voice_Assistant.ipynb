{
 "cells": [
  {
   "cell_type": "markdown",
   "metadata": {},
   "source": [
    "#### Import"
   ]
  },
  {
   "cell_type": "code",
   "execution_count": 1,
   "metadata": {},
   "outputs": [],
   "source": [
    "import speech_recognition as sr \n",
    "from gtts import gTTS\n",
    "import playsound \n",
    "import wikipedia\n",
    "import os "
   ]
  },
  {
   "cell_type": "markdown",
   "metadata": {},
   "source": [
    "#### Code Building"
   ]
  },
  {
   "cell_type": "code",
   "execution_count": 21,
   "metadata": {},
   "outputs": [
    {
     "name": "stdout",
     "output_type": "stream",
     "text": [
      "please search something for me on wikipedia\n",
      "Michael Gerard Tyson (born June 30, 1966) is an American former professional boxer who competed from 1985 to 2005.\n",
      "Las Vegas (; Spanish for \"The Meadows\"), often known simply as Vegas, is the 26th-most populous city in the United States, the most populous city in the state of Nevada, and the county seat of Clark County.\n"
     ]
    }
   ],
   "source": [
    "# speech to text\n",
    "def rita_listen():\n",
    "    r = sr.Recognizer()\n",
    "    with sr.Microphone() as source:\n",
    "        audio = r.listen(source)\n",
    "        \n",
    "        text = r.recognize_google(audio)\n",
    "        \n",
    "    text = text.lower()\n",
    "    return text\n",
    "\n",
    "\n",
    "# text to speech\n",
    "def rita_talk(text):\n",
    "    # create audio file\n",
    "    file_name = 'audio_data.mp3'\n",
    "    # convert text to speech\n",
    "    tts = gTTS(text=text, lang='en') \n",
    "    # save file\n",
    "    tts.save(file_name)\n",
    "    # play file\n",
    "    playsound.playsound(file_name)\n",
    "    # remove file\n",
    "    os.remove(file_name)\n",
    "    \n",
    "# function which will give us a reply based on our specific query (question)\n",
    "def rita_reply(query):\n",
    "    \n",
    "    if 'wikipedia' in query:\n",
    "        rita_talk('I am happy to help. Let me know what I should search for you on Wikipedia?')\n",
    "        \n",
    "        while True:\n",
    "            wiki_listen = rita_listen()\n",
    "            \n",
    "            if wiki_listen != 'shut down':\n",
    "                wiki_result = wikipedia.summary(wiki_listen, sentences=1)\n",
    "                print(wiki_result)\n",
    "                rita_talk(wiki_result)\n",
    "                \n",
    "            else:\n",
    "                rita_talk('I hope you have found the information you were searching for. I wish you a great day!')\n",
    "                break\n",
    "    else:\n",
    "        rita_talk('Sorry, at this moment I can just look things up on Wikipedia for you')\n",
    "    \n",
    "\n",
    "# execute assistant\n",
    "def execute_wiki_assistant():\n",
    "    # personal approach\n",
    "    rita_talk('Hi there, my name is Rita and I am your Wikipedia Advisor. Can you tell me your name?')\n",
    "    listen_name = rita_listen()\n",
    "    rita_talk('Hi ' + listen_name + ' what can I do for you?')\n",
    "    \n",
    "    listen_assistant = rita_listen()\n",
    "    print(listen_assistant)\n",
    "    rita_reply(listen_assistant)\n",
    "\n",
    "# run function\n",
    "execute_wiki_assistant()"
   ]
  }
 ],
 "metadata": {
  "kernelspec": {
   "display_name": "Python 3",
   "language": "python",
   "name": "python3"
  },
  "language_info": {
   "codemirror_mode": {
    "name": "ipython",
    "version": 3
   },
   "file_extension": ".py",
   "mimetype": "text/x-python",
   "name": "python",
   "nbconvert_exporter": "python",
   "pygments_lexer": "ipython3",
   "version": "3.9.2"
  }
 },
 "nbformat": 4,
 "nbformat_minor": 4
}
